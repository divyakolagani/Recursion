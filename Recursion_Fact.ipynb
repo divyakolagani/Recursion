{
 "cells": [
  {
   "cell_type": "code",
   "execution_count": 15,
   "id": "0e22e844",
   "metadata": {},
   "outputs": [],
   "source": [
    "def Fact(n):\n",
    "    if n == 1:\n",
    "        return 1\n",
    "    else:\n",
    "        return n*Fact(n-1)  "
   ]
  },
  {
   "cell_type": "code",
   "execution_count": null,
   "id": "d99fbe3f",
   "metadata": {},
   "outputs": [],
   "source": [
    "# Computational time\n",
    "#T(n) = T(n-1)+3 which is O(n)\n"
   ]
  },
  {
   "cell_type": "code",
   "execution_count": null,
   "id": "82987b56",
   "metadata": {},
   "outputs": [],
   "source": []
  }
 ],
 "metadata": {
  "kernelspec": {
   "display_name": "Python 3",
   "language": "python",
   "name": "python3"
  },
  "language_info": {
   "codemirror_mode": {
    "name": "ipython",
    "version": 3
   },
   "file_extension": ".py",
   "mimetype": "text/x-python",
   "name": "python",
   "nbconvert_exporter": "python",
   "pygments_lexer": "ipython3",
   "version": "3.8.8"
  }
 },
 "nbformat": 4,
 "nbformat_minor": 5
}
